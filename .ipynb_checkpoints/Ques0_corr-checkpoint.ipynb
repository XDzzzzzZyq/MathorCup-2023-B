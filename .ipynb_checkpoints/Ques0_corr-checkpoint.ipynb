{
 "cells": [
  {
   "cell_type": "code",
   "execution_count": 1,
   "id": "3cf673e5",
   "metadata": {},
   "outputs": [],
   "source": [
    "import numpy as np\n",
    "import pandas as pd\n",
    "\n",
    "import seaborn as sns  \n",
    "sns.set_style(\"darkgrid\")\n",
    "import matplotlib.pyplot as plt\n",
    "import matplotlib as mpl\n",
    "mpl.rcParams[\"font.sans-serif\"]=[\"SimHei\"]#展示中文字体\n",
    "mpl.rcParams[\"axes.unicode_minus\"]=False#处理负刻度值"
   ]
  },
  {
   "cell_type": "code",
   "execution_count": 2,
   "id": "e3c9c2a9",
   "metadata": {},
   "outputs": [],
   "source": [
    "data_raw = pd.read_excel(\"data/附件1-商家历史出货量表.xlsx\")"
   ]
  },
  {
   "cell_type": "code",
   "execution_count": 3,
   "id": "44582588",
   "metadata": {},
   "outputs": [
    {
     "data": {
      "text/html": [
       "<div>\n",
       "<style scoped>\n",
       "    .dataframe tbody tr th:only-of-type {\n",
       "        vertical-align: middle;\n",
       "    }\n",
       "\n",
       "    .dataframe tbody tr th {\n",
       "        vertical-align: top;\n",
       "    }\n",
       "\n",
       "    .dataframe thead th {\n",
       "        text-align: right;\n",
       "    }\n",
       "</style>\n",
       "<table border=\"1\" class=\"dataframe\">\n",
       "  <thead>\n",
       "    <tr style=\"text-align: right;\">\n",
       "      <th></th>\n",
       "      <th>seller_no</th>\n",
       "      <th>product_no</th>\n",
       "      <th>warehouse_no</th>\n",
       "      <th>date</th>\n",
       "      <th>qty</th>\n",
       "    </tr>\n",
       "  </thead>\n",
       "  <tbody>\n",
       "    <tr>\n",
       "      <th>0</th>\n",
       "      <td>seller_19</td>\n",
       "      <td>product_448</td>\n",
       "      <td>wh_30</td>\n",
       "      <td>2023-05-09</td>\n",
       "      <td>10</td>\n",
       "    </tr>\n",
       "    <tr>\n",
       "      <th>1</th>\n",
       "      <td>seller_19</td>\n",
       "      <td>product_448</td>\n",
       "      <td>wh_30</td>\n",
       "      <td>2023-04-17</td>\n",
       "      <td>14</td>\n",
       "    </tr>\n",
       "    <tr>\n",
       "      <th>2</th>\n",
       "      <td>seller_19</td>\n",
       "      <td>product_448</td>\n",
       "      <td>wh_30</td>\n",
       "      <td>2023-01-09</td>\n",
       "      <td>2</td>\n",
       "    </tr>\n",
       "    <tr>\n",
       "      <th>3</th>\n",
       "      <td>seller_19</td>\n",
       "      <td>product_448</td>\n",
       "      <td>wh_30</td>\n",
       "      <td>2023-01-20</td>\n",
       "      <td>1</td>\n",
       "    </tr>\n",
       "    <tr>\n",
       "      <th>4</th>\n",
       "      <td>seller_19</td>\n",
       "      <td>product_448</td>\n",
       "      <td>wh_30</td>\n",
       "      <td>2023-02-13</td>\n",
       "      <td>22</td>\n",
       "    </tr>\n",
       "  </tbody>\n",
       "</table>\n",
       "</div>"
      ],
      "text/plain": [
       "   seller_no   product_no warehouse_no       date  qty\n",
       "0  seller_19  product_448        wh_30 2023-05-09   10\n",
       "1  seller_19  product_448        wh_30 2023-04-17   14\n",
       "2  seller_19  product_448        wh_30 2023-01-09    2\n",
       "3  seller_19  product_448        wh_30 2023-01-20    1\n",
       "4  seller_19  product_448        wh_30 2023-02-13   22"
      ]
     },
     "execution_count": 3,
     "metadata": {},
     "output_type": "execute_result"
    }
   ],
   "source": [
    "data = data_raw\n",
    "data.head()"
   ]
  },
  {
   "cell_type": "code",
   "execution_count": 16,
   "id": "8ab38e72",
   "metadata": {},
   "outputs": [
    {
     "data": {
      "text/html": [
       "<div>\n",
       "<style scoped>\n",
       "    .dataframe tbody tr th:only-of-type {\n",
       "        vertical-align: middle;\n",
       "    }\n",
       "\n",
       "    .dataframe tbody tr th {\n",
       "        vertical-align: top;\n",
       "    }\n",
       "\n",
       "    .dataframe thead th {\n",
       "        text-align: right;\n",
       "    }\n",
       "</style>\n",
       "<table border=\"1\" class=\"dataframe\">\n",
       "  <thead>\n",
       "    <tr style=\"text-align: right;\">\n",
       "      <th></th>\n",
       "      <th>warehouse_no</th>\n",
       "      <th>warehouse _category</th>\n",
       "      <th>warehouse _region</th>\n",
       "    </tr>\n",
       "  </thead>\n",
       "  <tbody>\n",
       "    <tr>\n",
       "      <th>0</th>\n",
       "      <td>wh_1</td>\n",
       "      <td>中心仓</td>\n",
       "      <td>华东</td>\n",
       "    </tr>\n",
       "    <tr>\n",
       "      <th>1</th>\n",
       "      <td>wh_10</td>\n",
       "      <td>区域仓</td>\n",
       "      <td>华北</td>\n",
       "    </tr>\n",
       "    <tr>\n",
       "      <th>2</th>\n",
       "      <td>wh_11</td>\n",
       "      <td>区域仓</td>\n",
       "      <td>华中</td>\n",
       "    </tr>\n",
       "    <tr>\n",
       "      <th>3</th>\n",
       "      <td>wh_12</td>\n",
       "      <td>区域仓</td>\n",
       "      <td>华北</td>\n",
       "    </tr>\n",
       "    <tr>\n",
       "      <th>4</th>\n",
       "      <td>wh_13</td>\n",
       "      <td>区域仓</td>\n",
       "      <td>华南</td>\n",
       "    </tr>\n",
       "  </tbody>\n",
       "</table>\n",
       "</div>"
      ],
      "text/plain": [
       "  warehouse_no warehouse _category warehouse _region\n",
       "0         wh_1                 中心仓                华东\n",
       "1        wh_10                 区域仓                华北\n",
       "2        wh_11                 区域仓                华中\n",
       "3        wh_12                 区域仓                华北\n",
       "4        wh_13                 区域仓                华南"
      ]
     },
     "execution_count": 16,
     "metadata": {},
     "output_type": "execute_result"
    }
   ],
   "source": [
    "product_type_raw = pd.read_excel(\"data/附件2-商品信息表.xlsx\")\n",
    "storage_type_raw = pd.read_excel(\"data/附件4-仓库信息表.xlsx\")\n",
    "storage_type_raw.head()"
   ]
  },
  {
   "cell_type": "code",
   "execution_count": 38,
   "id": "e27daf7a",
   "metadata": {},
   "outputs": [
    {
     "data": {
      "text/html": [
       "<div>\n",
       "<style scoped>\n",
       "    .dataframe tbody tr th:only-of-type {\n",
       "        vertical-align: middle;\n",
       "    }\n",
       "\n",
       "    .dataframe tbody tr th {\n",
       "        vertical-align: top;\n",
       "    }\n",
       "\n",
       "    .dataframe thead th {\n",
       "        text-align: right;\n",
       "    }\n",
       "</style>\n",
       "<table border=\"1\" class=\"dataframe\">\n",
       "  <thead>\n",
       "    <tr style=\"text-align: right;\">\n",
       "      <th></th>\n",
       "      <th>warehouse _category</th>\n",
       "      <th>warehouse _region</th>\n",
       "    </tr>\n",
       "    <tr>\n",
       "      <th>warehouse_no</th>\n",
       "      <th></th>\n",
       "      <th></th>\n",
       "    </tr>\n",
       "  </thead>\n",
       "  <tbody>\n",
       "    <tr>\n",
       "      <th>wh_1</th>\n",
       "      <td>中心仓</td>\n",
       "      <td>华东</td>\n",
       "    </tr>\n",
       "    <tr>\n",
       "      <th>wh_10</th>\n",
       "      <td>区域仓</td>\n",
       "      <td>华北</td>\n",
       "    </tr>\n",
       "    <tr>\n",
       "      <th>wh_11</th>\n",
       "      <td>区域仓</td>\n",
       "      <td>华中</td>\n",
       "    </tr>\n",
       "    <tr>\n",
       "      <th>wh_12</th>\n",
       "      <td>区域仓</td>\n",
       "      <td>华北</td>\n",
       "    </tr>\n",
       "    <tr>\n",
       "      <th>wh_13</th>\n",
       "      <td>区域仓</td>\n",
       "      <td>华南</td>\n",
       "    </tr>\n",
       "  </tbody>\n",
       "</table>\n",
       "</div>"
      ],
      "text/plain": [
       "             warehouse _category warehouse _region\n",
       "warehouse_no                                      \n",
       "wh_1                         中心仓                华东\n",
       "wh_10                        区域仓                华北\n",
       "wh_11                        区域仓                华中\n",
       "wh_12                        区域仓                华北\n",
       "wh_13                        区域仓                华南"
      ]
     },
     "execution_count": 38,
     "metadata": {},
     "output_type": "execute_result"
    }
   ],
   "source": [
    "product_type = product_type_raw.set_index(\"product_no\")\n",
    "storage_type = storage_type_raw.drop_duplicates(keep='first').set_index(\"warehouse_no\")\n",
    "storage_type.head()"
   ]
  },
  {
   "cell_type": "markdown",
   "id": "aec9eb5b",
   "metadata": {},
   "source": [
    "- 仓库数据中wh_29、wh_38数据重复，只保留一个"
   ]
  },
  {
   "cell_type": "markdown",
   "id": "5cf1baf7",
   "metadata": {},
   "source": [
    "# 数据分类"
   ]
  },
  {
   "cell_type": "markdown",
   "id": "3807d66c",
   "metadata": {},
   "source": [
    "- 根据商品类型分类\n",
    "- 根据地区分类\n",
    "- 根据变化趋势分类"
   ]
  },
  {
   "cell_type": "code",
   "execution_count": 6,
   "id": "4fbb9756",
   "metadata": {},
   "outputs": [
    {
     "data": {
      "text/html": [
       "<div>\n",
       "<style scoped>\n",
       "    .dataframe tbody tr th:only-of-type {\n",
       "        vertical-align: middle;\n",
       "    }\n",
       "\n",
       "    .dataframe tbody tr th {\n",
       "        vertical-align: top;\n",
       "    }\n",
       "\n",
       "    .dataframe thead th {\n",
       "        text-align: right;\n",
       "    }\n",
       "</style>\n",
       "<table border=\"1\" class=\"dataframe\">\n",
       "  <thead>\n",
       "    <tr style=\"text-align: right;\">\n",
       "      <th></th>\n",
       "      <th>warehouse_no</th>\n",
       "      <th>date</th>\n",
       "      <th>qty</th>\n",
       "    </tr>\n",
       "    <tr>\n",
       "      <th>product_no</th>\n",
       "      <th></th>\n",
       "      <th></th>\n",
       "      <th></th>\n",
       "    </tr>\n",
       "  </thead>\n",
       "  <tbody>\n",
       "    <tr>\n",
       "      <th>product_448</th>\n",
       "      <td>wh_30</td>\n",
       "      <td>2023-05-09</td>\n",
       "      <td>10</td>\n",
       "    </tr>\n",
       "    <tr>\n",
       "      <th>product_448</th>\n",
       "      <td>wh_30</td>\n",
       "      <td>2023-04-17</td>\n",
       "      <td>14</td>\n",
       "    </tr>\n",
       "    <tr>\n",
       "      <th>product_448</th>\n",
       "      <td>wh_30</td>\n",
       "      <td>2023-01-09</td>\n",
       "      <td>2</td>\n",
       "    </tr>\n",
       "    <tr>\n",
       "      <th>product_448</th>\n",
       "      <td>wh_30</td>\n",
       "      <td>2023-01-20</td>\n",
       "      <td>1</td>\n",
       "    </tr>\n",
       "    <tr>\n",
       "      <th>product_448</th>\n",
       "      <td>wh_30</td>\n",
       "      <td>2023-02-13</td>\n",
       "      <td>22</td>\n",
       "    </tr>\n",
       "  </tbody>\n",
       "</table>\n",
       "</div>"
      ],
      "text/plain": [
       "            warehouse_no       date  qty\n",
       "product_no                              \n",
       "product_448        wh_30 2023-05-09   10\n",
       "product_448        wh_30 2023-04-17   14\n",
       "product_448        wh_30 2023-01-09    2\n",
       "product_448        wh_30 2023-01-20    1\n",
       "product_448        wh_30 2023-02-13   22"
      ]
     },
     "execution_count": 6,
     "metadata": {},
     "output_type": "execute_result"
    }
   ],
   "source": [
    "product = data.set_index(\"product_no\")[[\"warehouse_no\",\"date\",\"qty\"]]\n",
    "product.head()"
   ]
  },
  {
   "cell_type": "code",
   "execution_count": 40,
   "id": "5ba58c55",
   "metadata": {},
   "outputs": [
    {
     "data": {
      "text/html": [
       "<div>\n",
       "<style scoped>\n",
       "    .dataframe tbody tr th:only-of-type {\n",
       "        vertical-align: middle;\n",
       "    }\n",
       "\n",
       "    .dataframe tbody tr th {\n",
       "        vertical-align: top;\n",
       "    }\n",
       "\n",
       "    .dataframe thead th {\n",
       "        text-align: right;\n",
       "    }\n",
       "</style>\n",
       "<table border=\"1\" class=\"dataframe\">\n",
       "  <thead>\n",
       "    <tr style=\"text-align: right;\">\n",
       "      <th></th>\n",
       "      <th>warehouse_no</th>\n",
       "      <th>date</th>\n",
       "      <th>qty</th>\n",
       "      <th>type</th>\n",
       "      <th>region</th>\n",
       "    </tr>\n",
       "    <tr>\n",
       "      <th>product_no</th>\n",
       "      <th></th>\n",
       "      <th></th>\n",
       "      <th></th>\n",
       "      <th></th>\n",
       "      <th></th>\n",
       "    </tr>\n",
       "  </thead>\n",
       "  <tbody>\n",
       "    <tr>\n",
       "      <th>product_448</th>\n",
       "      <td>wh_30</td>\n",
       "      <td>2023-05-09</td>\n",
       "      <td>10</td>\n",
       "      <td>手机通讯</td>\n",
       "      <td>华南</td>\n",
       "    </tr>\n",
       "    <tr>\n",
       "      <th>product_448</th>\n",
       "      <td>wh_30</td>\n",
       "      <td>2023-04-17</td>\n",
       "      <td>14</td>\n",
       "      <td>手机通讯</td>\n",
       "      <td>华南</td>\n",
       "    </tr>\n",
       "    <tr>\n",
       "      <th>product_448</th>\n",
       "      <td>wh_30</td>\n",
       "      <td>2023-01-09</td>\n",
       "      <td>2</td>\n",
       "      <td>手机通讯</td>\n",
       "      <td>华南</td>\n",
       "    </tr>\n",
       "    <tr>\n",
       "      <th>product_448</th>\n",
       "      <td>wh_30</td>\n",
       "      <td>2023-01-20</td>\n",
       "      <td>1</td>\n",
       "      <td>手机通讯</td>\n",
       "      <td>华南</td>\n",
       "    </tr>\n",
       "    <tr>\n",
       "      <th>product_448</th>\n",
       "      <td>wh_30</td>\n",
       "      <td>2023-02-13</td>\n",
       "      <td>22</td>\n",
       "      <td>手机通讯</td>\n",
       "      <td>华南</td>\n",
       "    </tr>\n",
       "  </tbody>\n",
       "</table>\n",
       "</div>"
      ],
      "text/plain": [
       "            warehouse_no       date  qty  type region\n",
       "product_no                                           \n",
       "product_448        wh_30 2023-05-09   10  手机通讯     华南\n",
       "product_448        wh_30 2023-04-17   14  手机通讯     华南\n",
       "product_448        wh_30 2023-01-09    2  手机通讯     华南\n",
       "product_448        wh_30 2023-01-20    1  手机通讯     华南\n",
       "product_448        wh_30 2023-02-13   22  手机通讯     华南"
      ]
     },
     "execution_count": 40,
     "metadata": {},
     "output_type": "execute_result"
    }
   ],
   "source": [
    "product[\"type\"] = product_type.loc[product.index][\"category1\"]\n",
    "product[\"region\"] = storage_type.loc[product[\"warehouse_no\"]][\"warehouse _region\"].values\n",
    "product.head()"
   ]
  },
  {
   "cell_type": "markdown",
   "id": "0d030b0b",
   "metadata": {},
   "source": [
    "## 商品类型 "
   ]
  },
  {
   "cell_type": "code",
   "execution_count": 113,
   "id": "dcd09942",
   "metadata": {},
   "outputs": [],
   "source": [
    "import random\n",
    "count = 10\n",
    "name = []\n",
    "type_corr = []\n",
    "\n",
    "for idx, df in product.groupby(\"type\"):\n",
    "\n",
    "    qtys = df.groupby([\"product_no\",\"date\"]).mean()\n",
    "    qtys = qtys.unstack(level=0)\n",
    "    \n",
    "    clist = qtys.columns.tolist()\n",
    "    rand_colm = random.sample(clist, min(count, len(clist)))\n",
    "    \n",
    "    name += [idx]\n",
    "    type_corr += [qtys[rand_colm].corr().values.mean()]"
   ]
  },
  {
   "cell_type": "code",
   "execution_count": 114,
   "id": "6976f093",
   "metadata": {},
   "outputs": [
    {
     "data": {
      "image/png": "[encoded data removed]",
      "text/plain": [
       "<Figure size 640x480 with 1 Axes>"
      ]
     },
     "metadata": {},
     "output_type": "display_data"
    }
   ],
   "source": [
    "plt.bar(name, type_corr)\n",
    "\n",
    "plt.xticks(rotation=45)\n",
    "\n",
    "plt.ylabel('平均相似度')\n",
    "plt.xlabel('商品种类')\n",
    "\n",
    "plt.subplots_adjust(left=0, right=2)\n",
    "plt.show()"
   ]
  },
  {
   "cell_type": "markdown",
   "id": "3b7d88b4",
   "metadata": {},
   "source": [
    "## 地区 "
   ]
  },
  {
   "cell_type": "code",
   "execution_count": 115,
   "id": "74965d8c",
   "metadata": {},
   "outputs": [],
   "source": [
    "count = 10\n",
    "\n",
    "name = []\n",
    "region_corr = []\n",
    "\n",
    "for idx, df in product.groupby(\"region\"):\n",
    "\n",
    "    qtys = df.groupby([\"product_no\",\"date\"]).mean()\n",
    "    qtys = qtys.unstack(level=0)\n",
    "    \n",
    "    clist = qtys.columns.tolist()\n",
    "    rand_colm = random.sample(clist, min(count, len(clist)))\n",
    "    \n",
    "    name += [idx]\n",
    "    region_corr += [qtys[rand_colm].corr().values.mean()]"
   ]
  },
  {
   "cell_type": "code",
   "execution_count": 116,
   "id": "1a5b3f21",
   "metadata": {},
   "outputs": [
    {
     "data": {
      "image/png": "[encoded data removed]",
      "text/plain": [
       "<Figure size 640x480 with 1 Axes>"
      ]
     },
     "metadata": {},
     "output_type": "display_data"
    }
   ],
   "source": [
    "plt.bar(name, region_corr)\n",
    "\n",
    "plt.xticks(rotation=45)\n",
    "\n",
    "plt.ylabel('平均相似度')\n",
    "plt.xlabel('地区')\n",
    "\n",
    "plt.subplots_adjust(left=0, right=2)\n",
    "plt.show()"
   ]
  },
  {
   "cell_type": "markdown",
   "id": "b536f9dc",
   "metadata": {},
   "source": [
    "## 随机对照"
   ]
  },
  {
   "cell_type": "code",
   "execution_count": 133,
   "id": "c6fa1bfa",
   "metadata": {},
   "outputs": [],
   "source": [
    "count = 10\n",
    "categ = 10\n",
    "\n",
    "index_labels = product.index.values\n",
    "random.shuffle(index_labels)\n",
    "batch = int(len(index_labels)/categ)\n",
    "grouped_index = [index_labels[i:i + batch] for i in range(0, categ*batch, batch)]"
   ]
  },
  {
   "cell_type": "code",
   "execution_count": null,
   "id": "c8955745",
   "metadata": {},
   "outputs": [],
   "source": [
    "name = []\n",
    "random_corr = []\n",
    "\n",
    "grouped_dfs = (product.loc[group] for group in grouped_index)\n",
    "\n",
    "for i, df in enumerate(grouped_dfs):\n",
    "    print(df.head())"
   ]
  },
  {
   "cell_type": "code",
   "execution_count": null,
   "id": "720e45be",
   "metadata": {},
   "outputs": [],
   "source": []
  }
 ],
 "metadata": {
  "kernelspec": {
   "display_name": "Python 3 (ipykernel)",
   "language": "python",
   "name": "python3"
  },
  "language_info": {
   "codemirror_mode": {
    "name": "ipython",
    "version": 3
   },
   "file_extension": ".py",
   "mimetype": "text/x-python",
   "name": "python",
   "nbconvert_exporter": "python",
   "pygments_lexer": "ipython3",
   "version": "3.9.7"
  }
 },
 "nbformat": 4,
 "nbformat_minor": 5
}
