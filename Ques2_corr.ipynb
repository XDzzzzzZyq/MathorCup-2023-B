{
 "cells": [
  {
   "cell_type": "markdown",
   "id": "700e2f7f",
   "metadata": {},
   "source": [
    "# 新店铺类型分类"
   ]
  },
  {
   "cell_type": "markdown",
   "id": "e1cc09f2",
   "metadata": {},
   "source": [
    "- seller_34 为新的A类商户\n",
    "- seller_1  为新的B类商户"
   ]
  },
  {
   "cell_type": "code",
   "execution_count": 1,
   "id": "492a27fb",
   "metadata": {},
   "outputs": [],
   "source": [
    "import numpy as np\n",
    "import pandas as pd\n",
    "\n",
    "import seaborn as sns  \n",
    "sns.set_style(\"darkgrid\")\n",
    "import matplotlib.pyplot as plt\n",
    "import matplotlib as mpl\n",
    "mpl.rcParams[\"font.sans-serif\"]=[\"SimHei\"]#展示中文字体\n",
    "mpl.rcParams[\"axes.unicode_minus\"]=False#处理负刻度值"
   ]
  },
  {
   "cell_type": "code",
   "execution_count": 2,
   "id": "2aef637d",
   "metadata": {},
   "outputs": [],
   "source": [
    "data_raw = pd.read_excel(\"data/附件1-商家历史出货量表.xlsx\")\n",
    "product_type_raw = pd.read_excel(\"data/附件2-商品信息表.xlsx\")\n",
    "storage_type_raw = pd.read_excel(\"data/附件4-仓库信息表.xlsx\")\n",
    "seller_type_raw = pd.read_excel(\"data/附件3-商家信息表.xlsx\")\n",
    "new_data_raw = pd.read_excel(\"data/附件5-新品历史出货量表.xlsx\")"
   ]
  },
  {
   "cell_type": "code",
   "execution_count": 3,
   "id": "5e1b7182",
   "metadata": {},
   "outputs": [
    {
     "data": {
      "text/html": [
       "<div>\n",
       "<style scoped>\n",
       "    .dataframe tbody tr th:only-of-type {\n",
       "        vertical-align: middle;\n",
       "    }\n",
       "\n",
       "    .dataframe tbody tr th {\n",
       "        vertical-align: top;\n",
       "    }\n",
       "\n",
       "    .dataframe thead th {\n",
       "        text-align: right;\n",
       "    }\n",
       "</style>\n",
       "<table border=\"1\" class=\"dataframe\">\n",
       "  <thead>\n",
       "    <tr style=\"text-align: right;\">\n",
       "      <th></th>\n",
       "      <th>seller_category</th>\n",
       "      <th>inventory_category</th>\n",
       "      <th>seller_level</th>\n",
       "      <th>mixed type</th>\n",
       "    </tr>\n",
       "    <tr>\n",
       "      <th>seller_no</th>\n",
       "      <th></th>\n",
       "      <th></th>\n",
       "      <th></th>\n",
       "      <th></th>\n",
       "    </tr>\n",
       "  </thead>\n",
       "  <tbody>\n",
       "    <tr>\n",
       "      <th>seller_1</th>\n",
       "      <td>居家生活</td>\n",
       "      <td>B</td>\n",
       "      <td>New</td>\n",
       "      <td>B New</td>\n",
       "    </tr>\n",
       "    <tr>\n",
       "      <th>seller_2</th>\n",
       "      <td>厨具</td>\n",
       "      <td>A</td>\n",
       "      <td>Large</td>\n",
       "      <td>A Large</td>\n",
       "    </tr>\n",
       "    <tr>\n",
       "      <th>seller_3</th>\n",
       "      <td>厨具</td>\n",
       "      <td>A</td>\n",
       "      <td>Large</td>\n",
       "      <td>A Large</td>\n",
       "    </tr>\n",
       "    <tr>\n",
       "      <th>seller_4</th>\n",
       "      <td>家居日用</td>\n",
       "      <td>A</td>\n",
       "      <td>Large</td>\n",
       "      <td>A Large</td>\n",
       "    </tr>\n",
       "    <tr>\n",
       "      <th>seller_5</th>\n",
       "      <td>家居日用</td>\n",
       "      <td>B</td>\n",
       "      <td>Large</td>\n",
       "      <td>B Large</td>\n",
       "    </tr>\n",
       "  </tbody>\n",
       "</table>\n",
       "</div>"
      ],
      "text/plain": [
       "          seller_category inventory_category seller_level mixed type\n",
       "seller_no                                                           \n",
       "seller_1             居家生活                  B          New      B New\n",
       "seller_2               厨具                  A        Large    A Large\n",
       "seller_3               厨具                  A        Large    A Large\n",
       "seller_4             家居日用                  A        Large    A Large\n",
       "seller_5             家居日用                  B        Large    B Large"
      ]
     },
     "execution_count": 3,
     "metadata": {},
     "output_type": "execute_result"
    }
   ],
   "source": [
    "data = data_raw.copy()\n",
    "data_new = new_data_raw.copy()\n",
    "data[\"qty\"] = data[\"qty\"].where(data[\"qty\"] <= 200, 200)\n",
    "data_new[\"qty\"] = data_new[\"qty\"].where(data[\"qty\"] <= 200, 200)\n",
    "product_type = product_type_raw.set_index(\"product_no\")\n",
    "storage_type = storage_type_raw.drop_duplicates(keep='first').set_index(\"warehouse_no\")\n",
    "seller_type = seller_type_raw.set_index(\"seller_no\")\n",
    "seller_type[\"mixed type\"] = seller_type[\"inventory_category\"]+\" \"+seller_type[\"seller_level\"]\n",
    "seller_type.head()"
   ]
  },
  {
   "cell_type": "code",
   "execution_count": 17,
   "id": "e074ac41",
   "metadata": {},
   "outputs": [
    {
     "data": {
      "text/html": [
       "<div>\n",
       "<style scoped>\n",
       "    .dataframe tbody tr th:only-of-type {\n",
       "        vertical-align: middle;\n",
       "    }\n",
       "\n",
       "    .dataframe tbody tr th {\n",
       "        vertical-align: top;\n",
       "    }\n",
       "\n",
       "    .dataframe thead th {\n",
       "        text-align: right;\n",
       "    }\n",
       "</style>\n",
       "<table border=\"1\" class=\"dataframe\">\n",
       "  <thead>\n",
       "    <tr style=\"text-align: right;\">\n",
       "      <th></th>\n",
       "      <th></th>\n",
       "      <th></th>\n",
       "      <th>qty</th>\n",
       "    </tr>\n",
       "    <tr>\n",
       "      <th>seller_no</th>\n",
       "      <th>product_no</th>\n",
       "      <th>date</th>\n",
       "      <th></th>\n",
       "    </tr>\n",
       "  </thead>\n",
       "  <tbody>\n",
       "    <tr>\n",
       "      <th rowspan=\"5\" valign=\"top\">seller_10</th>\n",
       "      <th rowspan=\"5\" valign=\"top\">product_1664</th>\n",
       "      <th>2022-12-01</th>\n",
       "      <td>0.00</td>\n",
       "    </tr>\n",
       "    <tr>\n",
       "      <th>2022-12-02</th>\n",
       "      <td>0.00</td>\n",
       "    </tr>\n",
       "    <tr>\n",
       "      <th>2022-12-03</th>\n",
       "      <td>0.00</td>\n",
       "    </tr>\n",
       "    <tr>\n",
       "      <th>2022-12-04</th>\n",
       "      <td>0.50</td>\n",
       "    </tr>\n",
       "    <tr>\n",
       "      <th>2022-12-05</th>\n",
       "      <td>0.00</td>\n",
       "    </tr>\n",
       "    <tr>\n",
       "      <th>...</th>\n",
       "      <th>...</th>\n",
       "      <th>...</th>\n",
       "      <td>...</td>\n",
       "    </tr>\n",
       "    <tr>\n",
       "      <th rowspan=\"5\" valign=\"top\">seller_9</th>\n",
       "      <th rowspan=\"5\" valign=\"top\">product_96</th>\n",
       "      <th>2023-05-11</th>\n",
       "      <td>8.00</td>\n",
       "    </tr>\n",
       "    <tr>\n",
       "      <th>2023-05-12</th>\n",
       "      <td>10.25</td>\n",
       "    </tr>\n",
       "    <tr>\n",
       "      <th>2023-05-13</th>\n",
       "      <td>7.50</td>\n",
       "    </tr>\n",
       "    <tr>\n",
       "      <th>2023-05-14</th>\n",
       "      <td>12.00</td>\n",
       "    </tr>\n",
       "    <tr>\n",
       "      <th>2023-05-15</th>\n",
       "      <td>11.50</td>\n",
       "    </tr>\n",
       "  </tbody>\n",
       "</table>\n",
       "<p>201192 rows × 1 columns</p>\n",
       "</div>"
      ],
      "text/plain": [
       "                                     qty\n",
       "seller_no product_no   date             \n",
       "seller_10 product_1664 2022-12-01   0.00\n",
       "                       2022-12-02   0.00\n",
       "                       2022-12-03   0.00\n",
       "                       2022-12-04   0.50\n",
       "                       2022-12-05   0.00\n",
       "...                                  ...\n",
       "seller_9  product_96   2023-05-11   8.00\n",
       "                       2023-05-12  10.25\n",
       "                       2023-05-13   7.50\n",
       "                       2023-05-14  12.00\n",
       "                       2023-05-15  11.50\n",
       "\n",
       "[201192 rows x 1 columns]"
      ]
     },
     "execution_count": 17,
     "metadata": {},
     "output_type": "execute_result"
    }
   ],
   "source": [
    "seller_data = data.groupby(['seller_no','product_no','date']).mean()\n",
    "seller_data"
   ]
  },
  {
   "cell_type": "markdown",
   "id": "3bfb6b15",
   "metadata": {},
   "source": [
    "### seller_34"
   ]
  },
  {
   "cell_type": "code",
   "execution_count": 23,
   "id": "3a532ecf",
   "metadata": {
    "scrolled": true
   },
   "outputs": [
    {
     "data": {
      "text/html": [
       "<div>\n",
       "<style scoped>\n",
       "    .dataframe tbody tr th:only-of-type {\n",
       "        vertical-align: middle;\n",
       "    }\n",
       "\n",
       "    .dataframe tbody tr th {\n",
       "        vertical-align: top;\n",
       "    }\n",
       "\n",
       "    .dataframe thead th {\n",
       "        text-align: right;\n",
       "    }\n",
       "</style>\n",
       "<table border=\"1\" class=\"dataframe\">\n",
       "  <thead>\n",
       "    <tr style=\"text-align: right;\">\n",
       "      <th></th>\n",
       "      <th>seller_category</th>\n",
       "      <th>inventory_category</th>\n",
       "      <th>seller_level</th>\n",
       "      <th>mixed type</th>\n",
       "    </tr>\n",
       "    <tr>\n",
       "      <th>seller_no</th>\n",
       "      <th></th>\n",
       "      <th></th>\n",
       "      <th></th>\n",
       "      <th></th>\n",
       "    </tr>\n",
       "  </thead>\n",
       "  <tbody>\n",
       "    <tr>\n",
       "      <th>seller_2</th>\n",
       "      <td>厨具</td>\n",
       "      <td>A</td>\n",
       "      <td>Large</td>\n",
       "      <td>A Large</td>\n",
       "    </tr>\n",
       "    <tr>\n",
       "      <th>seller_3</th>\n",
       "      <td>厨具</td>\n",
       "      <td>A</td>\n",
       "      <td>Large</td>\n",
       "      <td>A Large</td>\n",
       "    </tr>\n",
       "    <tr>\n",
       "      <th>seller_4</th>\n",
       "      <td>家居日用</td>\n",
       "      <td>A</td>\n",
       "      <td>Large</td>\n",
       "      <td>A Large</td>\n",
       "    </tr>\n",
       "    <tr>\n",
       "      <th>seller_6</th>\n",
       "      <td>玩具乐器</td>\n",
       "      <td>A</td>\n",
       "      <td>Medium</td>\n",
       "      <td>A Medium</td>\n",
       "    </tr>\n",
       "    <tr>\n",
       "      <th>seller_10</th>\n",
       "      <td>手机通讯</td>\n",
       "      <td>A</td>\n",
       "      <td>Large</td>\n",
       "      <td>A Large</td>\n",
       "    </tr>\n",
       "    <tr>\n",
       "      <th>seller_11</th>\n",
       "      <td>食品饮料</td>\n",
       "      <td>A</td>\n",
       "      <td>Large</td>\n",
       "      <td>A Large</td>\n",
       "    </tr>\n",
       "    <tr>\n",
       "      <th>seller_17</th>\n",
       "      <td>美妆护肤</td>\n",
       "      <td>A</td>\n",
       "      <td>Special</td>\n",
       "      <td>A Special</td>\n",
       "    </tr>\n",
       "    <tr>\n",
       "      <th>seller_28</th>\n",
       "      <td>宠物健康</td>\n",
       "      <td>A</td>\n",
       "      <td>Large</td>\n",
       "      <td>A Large</td>\n",
       "    </tr>\n",
       "    <tr>\n",
       "      <th>seller_32</th>\n",
       "      <td>家装建材</td>\n",
       "      <td>A</td>\n",
       "      <td>Large</td>\n",
       "      <td>A Large</td>\n",
       "    </tr>\n",
       "    <tr>\n",
       "      <th>seller_35</th>\n",
       "      <td>服饰内衣</td>\n",
       "      <td>A</td>\n",
       "      <td>Large</td>\n",
       "      <td>A Large</td>\n",
       "    </tr>\n",
       "    <tr>\n",
       "      <th>seller_36</th>\n",
       "      <td>手机通讯</td>\n",
       "      <td>A</td>\n",
       "      <td>Large</td>\n",
       "      <td>A Large</td>\n",
       "    </tr>\n",
       "  </tbody>\n",
       "</table>\n",
       "</div>"
      ],
      "text/plain": [
       "          seller_category inventory_category seller_level mixed type\n",
       "seller_no                                                           \n",
       "seller_2               厨具                  A        Large    A Large\n",
       "seller_3               厨具                  A        Large    A Large\n",
       "seller_4             家居日用                  A        Large    A Large\n",
       "seller_6             玩具乐器                  A       Medium   A Medium\n",
       "seller_10            手机通讯                  A        Large    A Large\n",
       "seller_11            食品饮料                  A        Large    A Large\n",
       "seller_17            美妆护肤                  A      Special  A Special\n",
       "seller_28            宠物健康                  A        Large    A Large\n",
       "seller_32            家装建材                  A        Large    A Large\n",
       "seller_35            服饰内衣                  A        Large    A Large\n",
       "seller_36            手机通讯                  A        Large    A Large"
      ]
     },
     "execution_count": 23,
     "metadata": {},
     "output_type": "execute_result"
    }
   ],
   "source": [
    "seller_A = seller_type[(seller_type[\"inventory_category\"] == 'A')]\n",
    "seller_A = seller_A[~seller_A.index.isin(['seller_34'])]\n",
    "seller_A"
   ]
  },
  {
   "cell_type": "code",
   "execution_count": 104,
   "id": "e4676852",
   "metadata": {},
   "outputs": [
    {
     "data": {
      "text/html": [
       "<div>\n",
       "<style scoped>\n",
       "    .dataframe tbody tr th:only-of-type {\n",
       "        vertical-align: middle;\n",
       "    }\n",
       "\n",
       "    .dataframe tbody tr th {\n",
       "        vertical-align: top;\n",
       "    }\n",
       "\n",
       "    .dataframe thead th {\n",
       "        text-align: right;\n",
       "    }\n",
       "</style>\n",
       "<table border=\"1\" class=\"dataframe\">\n",
       "  <thead>\n",
       "    <tr style=\"text-align: right;\">\n",
       "      <th></th>\n",
       "      <th></th>\n",
       "      <th>qty</th>\n",
       "    </tr>\n",
       "    <tr>\n",
       "      <th>seller_no</th>\n",
       "      <th>date</th>\n",
       "      <th></th>\n",
       "    </tr>\n",
       "  </thead>\n",
       "  <tbody>\n",
       "    <tr>\n",
       "      <th rowspan=\"5\" valign=\"top\">seller_34</th>\n",
       "      <th>2023-04-03</th>\n",
       "      <td>1.0</td>\n",
       "    </tr>\n",
       "    <tr>\n",
       "      <th>2023-04-04</th>\n",
       "      <td>0.0</td>\n",
       "    </tr>\n",
       "    <tr>\n",
       "      <th>2023-04-05</th>\n",
       "      <td>0.0</td>\n",
       "    </tr>\n",
       "    <tr>\n",
       "      <th>2023-04-06</th>\n",
       "      <td>0.0</td>\n",
       "    </tr>\n",
       "    <tr>\n",
       "      <th>2023-04-07</th>\n",
       "      <td>0.5</td>\n",
       "    </tr>\n",
       "  </tbody>\n",
       "</table>\n",
       "</div>"
      ],
      "text/plain": [
       "                      qty\n",
       "seller_no date           \n",
       "seller_34 2023-04-03  1.0\n",
       "          2023-04-04  0.0\n",
       "          2023-04-05  0.0\n",
       "          2023-04-06  0.0\n",
       "          2023-04-07  0.5"
      ]
     },
     "execution_count": 104,
     "metadata": {},
     "output_type": "execute_result"
    }
   ],
   "source": [
    "seller_34 = data_new[data_new[\"seller_no\"]==\"seller_34\"]\n",
    "seller_34 = seller_34.groupby(['seller_no','date']).mean()\n",
    "seller_34.head()"
   ]
  },
  {
   "cell_type": "code",
   "execution_count": 103,
   "id": "0091d135",
   "metadata": {
    "scrolled": true
   },
   "outputs": [
    {
     "name": "stdout",
     "output_type": "stream",
     "text": [
      "A Large\n"
     ]
    },
    {
     "data": {
      "image/png": "[encoded data removed]",
      "text/plain": [
       "<Figure size 1200x100 with 2 Axes>"
      ]
     },
     "metadata": {},
     "output_type": "display_data"
    },
    {
     "name": "stdout",
     "output_type": "stream",
     "text": [
      "A Medium\n"
     ]
    },
    {
     "data": {
      "image/png": "[encoded data removed]",
      "text/plain": [
       "<Figure size 1200x100 with 2 Axes>"
      ]
     },
     "metadata": {},
     "output_type": "display_data"
    },
    {
     "name": "stdout",
     "output_type": "stream",
     "text": [
      "A Special\n"
     ]
    },
    {
     "data": {
      "image/png": "[encoded data removed]",
      "text/plain": [
       "<Figure size 1200x100 with 2 Axes>"
      ]
     },
     "metadata": {},
     "output_type": "display_data"
    },
    {
     "data": {
      "image/png": "[encoded data removed]",
      "text/plain": [
       "<Figure size 640x480 with 1 Axes>"
      ]
     },
     "metadata": {},
     "output_type": "display_data"
    }
   ],
   "source": [
    "import random\n",
    "\n",
    "\n",
    "num = 50\n",
    "seller_34_list = []\n",
    "type_list = []\n",
    "\n",
    "\n",
    "for seller_types, df in seller_A.groupby(\"mixed type\"):\n",
    "    print(seller_types)\n",
    "    \n",
    "    local_data = seller_data.loc[df.index].reset_index().set_index(\"product_no\")\n",
    "    \n",
    "    rand_prod = np.random.choice(local_data.index, num)\n",
    "    local_data = local_data.loc[rand_prod][[\"date\",\"qty\"]]\n",
    "    local_data = local_data.reset_index().set_index([\"product_no\",\"date\"])\n",
    "        \n",
    "    duplicates = local_data.index.duplicated(keep='first')\n",
    "    \n",
    "    local_data = local_data[~duplicates].unstack(level=0).fillna(0)\n",
    "    local_data = local_data.truncate(before = \"2023-04-03\")\n",
    "    \n",
    "    local_data[\"34\"] = seller_34.values\n",
    "\n",
    "    corr = local_data.corr()\n",
    "    plt.figure(figsize=(12, 1))  # 设置每张图的尺寸\n",
    "    sns.heatmap([corr[\"34\"][:-1]], annot=False, cmap='coolwarm', linewidths=0.5)\n",
    "    plt.title(f'Heatmap {seller_types}')  # 添加标题\n",
    "    plt.show()  # 显示图表\n",
    "    \n",
    "    seller_34_list += [np.mean(np.abs([corr[\"34\"][:-1]]))]\n",
    "    type_list += [seller_types]\n",
    "    \n",
    "plt.bar(type_list, seller_34_list)\n",
    "plt.subplots_adjust(left=0, right=2)"
   ]
  },
  {
   "cell_type": "markdown",
   "id": "dd06081b",
   "metadata": {},
   "source": [
    "####  seller_34 应当归类于 A Special"
   ]
  },
  {
   "cell_type": "code",
   "execution_count": null,
   "id": "4b8acc22",
   "metadata": {},
   "outputs": [],
   "source": []
  },
  {
   "cell_type": "markdown",
   "id": "95b36c27",
   "metadata": {},
   "source": [
    "### seller_1"
   ]
  },
  {
   "cell_type": "code",
   "execution_count": 106,
   "id": "85d241bd",
   "metadata": {
    "scrolled": true
   },
   "outputs": [
    {
     "data": {
      "text/html": [
       "<div>\n",
       "<style scoped>\n",
       "    .dataframe tbody tr th:only-of-type {\n",
       "        vertical-align: middle;\n",
       "    }\n",
       "\n",
       "    .dataframe tbody tr th {\n",
       "        vertical-align: top;\n",
       "    }\n",
       "\n",
       "    .dataframe thead th {\n",
       "        text-align: right;\n",
       "    }\n",
       "</style>\n",
       "<table border=\"1\" class=\"dataframe\">\n",
       "  <thead>\n",
       "    <tr style=\"text-align: right;\">\n",
       "      <th></th>\n",
       "      <th>seller_category</th>\n",
       "      <th>inventory_category</th>\n",
       "      <th>seller_level</th>\n",
       "      <th>mixed type</th>\n",
       "    </tr>\n",
       "    <tr>\n",
       "      <th>seller_no</th>\n",
       "      <th></th>\n",
       "      <th></th>\n",
       "      <th></th>\n",
       "      <th></th>\n",
       "    </tr>\n",
       "  </thead>\n",
       "  <tbody>\n",
       "    <tr>\n",
       "      <th>seller_5</th>\n",
       "      <td>家居日用</td>\n",
       "      <td>B</td>\n",
       "      <td>Large</td>\n",
       "      <td>B Large</td>\n",
       "    </tr>\n",
       "    <tr>\n",
       "      <th>seller_7</th>\n",
       "      <td>手机通讯</td>\n",
       "      <td>B</td>\n",
       "      <td>Large</td>\n",
       "      <td>B Large</td>\n",
       "    </tr>\n",
       "    <tr>\n",
       "      <th>seller_9</th>\n",
       "      <td>手机通讯</td>\n",
       "      <td>B</td>\n",
       "      <td>Medium</td>\n",
       "      <td>B Medium</td>\n",
       "    </tr>\n",
       "    <tr>\n",
       "      <th>seller_12</th>\n",
       "      <td>食品饮料</td>\n",
       "      <td>B</td>\n",
       "      <td>Large</td>\n",
       "      <td>B Large</td>\n",
       "    </tr>\n",
       "    <tr>\n",
       "      <th>seller_13</th>\n",
       "      <td>食品饮料</td>\n",
       "      <td>B</td>\n",
       "      <td>Special</td>\n",
       "      <td>B Special</td>\n",
       "    </tr>\n",
       "    <tr>\n",
       "      <th>seller_15</th>\n",
       "      <td>美妆护肤</td>\n",
       "      <td>B</td>\n",
       "      <td>Large</td>\n",
       "      <td>B Large</td>\n",
       "    </tr>\n",
       "    <tr>\n",
       "      <th>seller_16</th>\n",
       "      <td>个人护理</td>\n",
       "      <td>B</td>\n",
       "      <td>Large</td>\n",
       "      <td>B Large</td>\n",
       "    </tr>\n",
       "    <tr>\n",
       "      <th>seller_18</th>\n",
       "      <td>美妆护肤</td>\n",
       "      <td>B</td>\n",
       "      <td>Small</td>\n",
       "      <td>B Small</td>\n",
       "    </tr>\n",
       "    <tr>\n",
       "      <th>seller_21</th>\n",
       "      <td>电脑、办公</td>\n",
       "      <td>B</td>\n",
       "      <td>Special</td>\n",
       "      <td>B Special</td>\n",
       "    </tr>\n",
       "    <tr>\n",
       "      <th>seller_23</th>\n",
       "      <td>家用电器</td>\n",
       "      <td>B</td>\n",
       "      <td>Small</td>\n",
       "      <td>B Small</td>\n",
       "    </tr>\n",
       "    <tr>\n",
       "      <th>seller_24</th>\n",
       "      <td>家用电器</td>\n",
       "      <td>B</td>\n",
       "      <td>Large</td>\n",
       "      <td>B Large</td>\n",
       "    </tr>\n",
       "    <tr>\n",
       "      <th>seller_25</th>\n",
       "      <td>家装建材</td>\n",
       "      <td>B</td>\n",
       "      <td>Large</td>\n",
       "      <td>B Large</td>\n",
       "    </tr>\n",
       "    <tr>\n",
       "      <th>seller_27</th>\n",
       "      <td>家装建材</td>\n",
       "      <td>B</td>\n",
       "      <td>Medium</td>\n",
       "      <td>B Medium</td>\n",
       "    </tr>\n",
       "    <tr>\n",
       "      <th>seller_29</th>\n",
       "      <td>宠物生活</td>\n",
       "      <td>B</td>\n",
       "      <td>Large</td>\n",
       "      <td>B Large</td>\n",
       "    </tr>\n",
       "    <tr>\n",
       "      <th>seller_30</th>\n",
       "      <td>数码</td>\n",
       "      <td>B</td>\n",
       "      <td>Large</td>\n",
       "      <td>B Large</td>\n",
       "    </tr>\n",
       "    <tr>\n",
       "      <th>seller_31</th>\n",
       "      <td>家具</td>\n",
       "      <td>B</td>\n",
       "      <td>Large</td>\n",
       "      <td>B Large</td>\n",
       "    </tr>\n",
       "    <tr>\n",
       "      <th>seller_33</th>\n",
       "      <td>家装建材</td>\n",
       "      <td>B</td>\n",
       "      <td>Large</td>\n",
       "      <td>B Large</td>\n",
       "    </tr>\n",
       "    <tr>\n",
       "      <th>seller_37</th>\n",
       "      <td>电脑、办公</td>\n",
       "      <td>B</td>\n",
       "      <td>Large</td>\n",
       "      <td>B Large</td>\n",
       "    </tr>\n",
       "  </tbody>\n",
       "</table>\n",
       "</div>"
      ],
      "text/plain": [
       "          seller_category inventory_category seller_level mixed type\n",
       "seller_no                                                           \n",
       "seller_5             家居日用                  B        Large    B Large\n",
       "seller_7             手机通讯                  B        Large    B Large\n",
       "seller_9             手机通讯                  B       Medium   B Medium\n",
       "seller_12            食品饮料                  B        Large    B Large\n",
       "seller_13            食品饮料                  B      Special  B Special\n",
       "seller_15            美妆护肤                  B        Large    B Large\n",
       "seller_16            个人护理                  B        Large    B Large\n",
       "seller_18            美妆护肤                  B        Small    B Small\n",
       "seller_21           电脑、办公                  B      Special  B Special\n",
       "seller_23            家用电器                  B        Small    B Small\n",
       "seller_24            家用电器                  B        Large    B Large\n",
       "seller_25            家装建材                  B        Large    B Large\n",
       "seller_27            家装建材                  B       Medium   B Medium\n",
       "seller_29            宠物生活                  B        Large    B Large\n",
       "seller_30              数码                  B        Large    B Large\n",
       "seller_31              家具                  B        Large    B Large\n",
       "seller_33            家装建材                  B        Large    B Large\n",
       "seller_37           电脑、办公                  B        Large    B Large"
      ]
     },
     "execution_count": 106,
     "metadata": {},
     "output_type": "execute_result"
    }
   ],
   "source": [
    "seller_B = seller_type[(seller_type[\"inventory_category\"] == 'B')]\n",
    "seller_B = seller_B[~seller_B.index.isin(['seller_1'])]\n",
    "seller_B"
   ]
  },
  {
   "cell_type": "code",
   "execution_count": 111,
   "id": "3c0aac1a",
   "metadata": {},
   "outputs": [
    {
     "data": {
      "text/html": [
       "<div>\n",
       "<style scoped>\n",
       "    .dataframe tbody tr th:only-of-type {\n",
       "        vertical-align: middle;\n",
       "    }\n",
       "\n",
       "    .dataframe tbody tr th {\n",
       "        vertical-align: top;\n",
       "    }\n",
       "\n",
       "    .dataframe thead th {\n",
       "        text-align: right;\n",
       "    }\n",
       "</style>\n",
       "<table border=\"1\" class=\"dataframe\">\n",
       "  <thead>\n",
       "    <tr style=\"text-align: right;\">\n",
       "      <th></th>\n",
       "      <th></th>\n",
       "      <th>qty</th>\n",
       "    </tr>\n",
       "    <tr>\n",
       "      <th>seller_no</th>\n",
       "      <th>date</th>\n",
       "      <th></th>\n",
       "    </tr>\n",
       "  </thead>\n",
       "  <tbody>\n",
       "    <tr>\n",
       "      <th rowspan=\"5\" valign=\"top\">seller_1</th>\n",
       "      <th>2023-04-01</th>\n",
       "      <td>2.333333</td>\n",
       "    </tr>\n",
       "    <tr>\n",
       "      <th>2023-04-02</th>\n",
       "      <td>1.000000</td>\n",
       "    </tr>\n",
       "    <tr>\n",
       "      <th>2023-04-03</th>\n",
       "      <td>0.750000</td>\n",
       "    </tr>\n",
       "    <tr>\n",
       "      <th>2023-04-04</th>\n",
       "      <td>0.250000</td>\n",
       "    </tr>\n",
       "    <tr>\n",
       "      <th>2023-04-05</th>\n",
       "      <td>0.600000</td>\n",
       "    </tr>\n",
       "  </tbody>\n",
       "</table>\n",
       "</div>"
      ],
      "text/plain": [
       "                           qty\n",
       "seller_no date                \n",
       "seller_1  2023-04-01  2.333333\n",
       "          2023-04-02  1.000000\n",
       "          2023-04-03  0.750000\n",
       "          2023-04-04  0.250000\n",
       "          2023-04-05  0.600000"
      ]
     },
     "execution_count": 111,
     "metadata": {},
     "output_type": "execute_result"
    }
   ],
   "source": [
    "seller_1 = data_new[data_new[\"seller_no\"]==\"seller_1\"]\n",
    "seller_1 = seller_1.groupby(['seller_no','date']).mean()\n",
    "seller_1.head()"
   ]
  },
  {
   "cell_type": "code",
   "execution_count": 115,
   "id": "fd1f8b8c",
   "metadata": {
    "scrolled": true
   },
   "outputs": [
    {
     "name": "stdout",
     "output_type": "stream",
     "text": [
      "B Large\n"
     ]
    },
    {
     "data": {
      "image/png": "[encoded data removed]",
      "text/plain": [
       "<Figure size 1200x100 with 2 Axes>"
      ]
     },
     "metadata": {},
     "output_type": "display_data"
    },
    {
     "name": "stdout",
     "output_type": "stream",
     "text": [
      "B Medium\n"
     ]
    },
    {
     "data": {
      "image/png": "[encoded data removed]",
      "text/plain": [
       "<Figure size 1200x100 with 2 Axes>"
      ]
     },
     "metadata": {},
     "output_type": "display_data"
    },
    {
     "name": "stdout",
     "output_type": "stream",
     "text": [
      "B Small\n"
     ]
    },
    {
     "data": {
      "image/png": "[encoded data removed]",
      "text/plain": [
       "<Figure size 1200x100 with 2 Axes>"
      ]
     },
     "metadata": {},
     "output_type": "display_data"
    },
    {
     "name": "stdout",
     "output_type": "stream",
     "text": [
      "B Special\n"
     ]
    },
    {
     "data": {
      "image/png": "[encoded data removed]",
      "text/plain": [
       "<Figure size 1200x100 with 2 Axes>"
      ]
     },
     "metadata": {},
     "output_type": "display_data"
    },
    {
     "data": {
      "image/png": "[encoded data removed]",
      "text/plain": [
       "<Figure size 640x480 with 1 Axes>"
      ]
     },
     "metadata": {},
     "output_type": "display_data"
    }
   ],
   "source": [
    "import random\n",
    "\n",
    "\n",
    "num = 50\n",
    "seller_1_list = []\n",
    "type_list = []\n",
    "\n",
    "\n",
    "for seller_types, df in seller_B.groupby(\"mixed type\"):\n",
    "    print(seller_types)\n",
    "    \n",
    "    local_data = seller_data.loc[df.index].reset_index().set_index(\"product_no\")\n",
    "    \n",
    "    rand_prod = np.random.choice(local_data.index, num)\n",
    "    local_data = local_data.loc[rand_prod][[\"date\",\"qty\"]]\n",
    "    local_data = local_data.reset_index().set_index([\"product_no\",\"date\"])\n",
    "        \n",
    "    duplicates = local_data.index.duplicated(keep='first')\n",
    "    \n",
    "    local_data = local_data[~duplicates].unstack(level=0).fillna(0)\n",
    "    local_data = local_data.truncate(before = \"2023-04-01\")\n",
    "    \n",
    "    local_data[\"1\"] = seller_1.values\n",
    "\n",
    "    corr = local_data.corr()\n",
    "    plt.figure(figsize=(12, 1))  # 设置每张图的尺寸\n",
    "    sns.heatmap([corr[\"1\"][:-1]], annot=False, cmap='coolwarm', linewidths=0.5)\n",
    "    plt.title(f'Heatmap {seller_types}')  # 添加标题\n",
    "    plt.show()  # 显示图表\n",
    "    \n",
    "    seller_1_list += [np.mean(np.abs([corr[\"1\"][:-1]]))]\n",
    "    type_list += [seller_types]\n",
    "    \n",
    "plt.bar(type_list, seller_1_list)\n",
    "plt.subplots_adjust(left=0, right=2)"
   ]
  },
  {
   "cell_type": "markdown",
   "id": "edea1874",
   "metadata": {},
   "source": [
    "####  seller_1 应当归类于 B Small"
   ]
  },
  {
   "cell_type": "code",
   "execution_count": null,
   "id": "816a2bad",
   "metadata": {},
   "outputs": [],
   "source": []
  }
 ],
 "metadata": {
  "kernelspec": {
   "display_name": "Python 3 (ipykernel)",
   "language": "python",
   "name": "python3"
  },
  "language_info": {
   "codemirror_mode": {
    "name": "ipython",
    "version": 3
   },
   "file_extension": ".py",
   "mimetype": "text/x-python",
   "name": "python",
   "nbconvert_exporter": "python",
   "pygments_lexer": "ipython3",
   "version": "3.9.7"
  }
 },
 "nbformat": 4,
 "nbformat_minor": 5
}
