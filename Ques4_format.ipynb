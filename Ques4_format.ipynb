{
 "cells": [
  {
   "cell_type": "markdown",
   "id": "162e0ebb",
   "metadata": {},
   "source": [
    "- 时间戳转换为'%Y/%m/%d'的形式\n",
    "- 预测值转换为整数"
   ]
  },
  {
   "cell_type": "code",
   "execution_count": 2,
   "id": "e098a52f",
   "metadata": {},
   "outputs": [],
   "source": [
    "import pandas as pd"
   ]
  },
  {
   "cell_type": "code",
   "execution_count": 3,
   "id": "f372a05c",
   "metadata": {},
   "outputs": [],
   "source": [
    "result1_ = pd.read_excel(\"result/result.xlsx\")\n",
    "result2_ = pd.read_excel(\"result/result2.xlsx\")\n",
    "result3_ = pd.read_excel(\"result/result3.xlsx\")"
   ]
  },
  {
   "cell_type": "code",
   "execution_count": 47,
   "id": "a0d06de5",
   "metadata": {},
   "outputs": [
    {
     "data": {
      "text/html": [
       "<div>\n",
       "<style scoped>\n",
       "    .dataframe tbody tr th:only-of-type {\n",
       "        vertical-align: middle;\n",
       "    }\n",
       "\n",
       "    .dataframe tbody tr th {\n",
       "        vertical-align: top;\n",
       "    }\n",
       "\n",
       "    .dataframe thead th {\n",
       "        text-align: right;\n",
       "    }\n",
       "</style>\n",
       "<table border=\"1\" class=\"dataframe\">\n",
       "  <thead>\n",
       "    <tr style=\"text-align: right;\">\n",
       "      <th></th>\n",
       "      <th>seller_no</th>\n",
       "      <th>product_no</th>\n",
       "      <th>warehouse_no</th>\n",
       "      <th>date</th>\n",
       "      <th>qty</th>\n",
       "    </tr>\n",
       "  </thead>\n",
       "  <tbody>\n",
       "    <tr>\n",
       "      <th>0</th>\n",
       "      <td>seller_10</td>\n",
       "      <td>product_1931</td>\n",
       "      <td>wh_24</td>\n",
       "      <td>2023-05-16</td>\n",
       "      <td>1</td>\n",
       "    </tr>\n",
       "    <tr>\n",
       "      <th>1</th>\n",
       "      <td>seller_10</td>\n",
       "      <td>product_1931</td>\n",
       "      <td>wh_24</td>\n",
       "      <td>2023-05-17</td>\n",
       "      <td>1</td>\n",
       "    </tr>\n",
       "    <tr>\n",
       "      <th>2</th>\n",
       "      <td>seller_10</td>\n",
       "      <td>product_1931</td>\n",
       "      <td>wh_24</td>\n",
       "      <td>2023-05-18</td>\n",
       "      <td>2</td>\n",
       "    </tr>\n",
       "    <tr>\n",
       "      <th>3</th>\n",
       "      <td>seller_10</td>\n",
       "      <td>product_1931</td>\n",
       "      <td>wh_24</td>\n",
       "      <td>2023-05-19</td>\n",
       "      <td>1</td>\n",
       "    </tr>\n",
       "    <tr>\n",
       "      <th>4</th>\n",
       "      <td>seller_10</td>\n",
       "      <td>product_1931</td>\n",
       "      <td>wh_24</td>\n",
       "      <td>2023-05-20</td>\n",
       "      <td>1</td>\n",
       "    </tr>\n",
       "  </tbody>\n",
       "</table>\n",
       "</div>"
      ],
      "text/plain": [
       "   seller_no    product_no warehouse_no        date  qty\n",
       "0  seller_10  product_1931        wh_24  2023-05-16    1\n",
       "1  seller_10  product_1931        wh_24  2023-05-17    1\n",
       "2  seller_10  product_1931        wh_24  2023-05-18    2\n",
       "3  seller_10  product_1931        wh_24  2023-05-19    1\n",
       "4  seller_10  product_1931        wh_24  2023-05-20    1"
      ]
     },
     "execution_count": 47,
     "metadata": {},
     "output_type": "execute_result"
    }
   ],
   "source": [
    "result1 = result1_.copy()\n",
    "result2 = result2_.copy()\n",
    "result3 = result3_.copy()\n",
    "\n",
    "result1.head()"
   ]
  },
  {
   "cell_type": "code",
   "execution_count": 48,
   "id": "e2ec6ce0",
   "metadata": {},
   "outputs": [],
   "source": [
    "def formati(df):\n",
    "    df = df.copy()\n",
    "    df[\"date\"] = pd.Index(pd.to_datetime(df[\"date\"])).strftime('%Y/%m/%d')\n",
    "    df[\"qty\"] = df[\"qty\"].astype('float').round()\n",
    "    df = df.rename(columns={'qty': 'forecast_qty'})\n",
    "    \n",
    "    return df"
   ]
  },
  {
   "cell_type": "code",
   "execution_count": 49,
   "id": "3e6dd622",
   "metadata": {},
   "outputs": [
    {
     "data": {
      "text/html": [
       "<div>\n",
       "<style scoped>\n",
       "    .dataframe tbody tr th:only-of-type {\n",
       "        vertical-align: middle;\n",
       "    }\n",
       "\n",
       "    .dataframe tbody tr th {\n",
       "        vertical-align: top;\n",
       "    }\n",
       "\n",
       "    .dataframe thead th {\n",
       "        text-align: right;\n",
       "    }\n",
       "</style>\n",
       "<table border=\"1\" class=\"dataframe\">\n",
       "  <thead>\n",
       "    <tr style=\"text-align: right;\">\n",
       "      <th></th>\n",
       "      <th>seller_no</th>\n",
       "      <th>product_no</th>\n",
       "      <th>warehouse_no</th>\n",
       "      <th>date</th>\n",
       "      <th>forecast_qty</th>\n",
       "    </tr>\n",
       "  </thead>\n",
       "  <tbody>\n",
       "    <tr>\n",
       "      <th>0</th>\n",
       "      <td>seller_10</td>\n",
       "      <td>product_1931</td>\n",
       "      <td>wh_24</td>\n",
       "      <td>2023/05/16</td>\n",
       "      <td>1.0</td>\n",
       "    </tr>\n",
       "    <tr>\n",
       "      <th>1</th>\n",
       "      <td>seller_10</td>\n",
       "      <td>product_1931</td>\n",
       "      <td>wh_24</td>\n",
       "      <td>2023/05/17</td>\n",
       "      <td>1.0</td>\n",
       "    </tr>\n",
       "    <tr>\n",
       "      <th>2</th>\n",
       "      <td>seller_10</td>\n",
       "      <td>product_1931</td>\n",
       "      <td>wh_24</td>\n",
       "      <td>2023/05/18</td>\n",
       "      <td>2.0</td>\n",
       "    </tr>\n",
       "    <tr>\n",
       "      <th>3</th>\n",
       "      <td>seller_10</td>\n",
       "      <td>product_1931</td>\n",
       "      <td>wh_24</td>\n",
       "      <td>2023/05/19</td>\n",
       "      <td>1.0</td>\n",
       "    </tr>\n",
       "    <tr>\n",
       "      <th>4</th>\n",
       "      <td>seller_10</td>\n",
       "      <td>product_1931</td>\n",
       "      <td>wh_24</td>\n",
       "      <td>2023/05/20</td>\n",
       "      <td>1.0</td>\n",
       "    </tr>\n",
       "  </tbody>\n",
       "</table>\n",
       "</div>"
      ],
      "text/plain": [
       "   seller_no    product_no warehouse_no        date  forecast_qty\n",
       "0  seller_10  product_1931        wh_24  2023/05/16           1.0\n",
       "1  seller_10  product_1931        wh_24  2023/05/17           1.0\n",
       "2  seller_10  product_1931        wh_24  2023/05/18           2.0\n",
       "3  seller_10  product_1931        wh_24  2023/05/19           1.0\n",
       "4  seller_10  product_1931        wh_24  2023/05/20           1.0"
      ]
     },
     "execution_count": 49,
     "metadata": {},
     "output_type": "execute_result"
    }
   ],
   "source": [
    "result1 = formati(result1)\n",
    "result2 = formati(result2)\n",
    "result3 = formati(result3)\n",
    "\n",
    "result1.head()"
   ]
  },
  {
   "cell_type": "code",
   "execution_count": 32,
   "id": "23aaaf8f",
   "metadata": {},
   "outputs": [],
   "source": [
    "result1.to_excel('result/结果表1-预测结果表.xlsx',index=False)\n",
    "print(1)\n",
    "result2.to_excel('result/结果表2-预测结果表.xlsx',index=False)\n",
    "print(2)\n",
    "result3.to_excel('result/结果表3-预测结果表.xlsx',index=False)\n",
    "print(3)"
   ]
  },
  {
   "cell_type": "code",
   "execution_count": null,
   "id": "1b414052",
   "metadata": {},
   "outputs": [],
   "source": []
  }
 ],
 "metadata": {
  "kernelspec": {
   "display_name": "Python 3 (ipykernel)",
   "language": "python",
   "name": "python3"
  },
  "language_info": {
   "codemirror_mode": {
    "name": "ipython",
    "version": 3
   },
   "file_extension": ".py",
   "mimetype": "text/x-python",
   "name": "python",
   "nbconvert_exporter": "python",
   "pygments_lexer": "ipython3",
   "version": "3.9.7"
  }
 },
 "nbformat": 4,
 "nbformat_minor": 5
}
